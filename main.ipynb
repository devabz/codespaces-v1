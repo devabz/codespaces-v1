{
 "cells": [
  {
   "cell_type": "code",
   "execution_count": 1,
   "metadata": {
    "ExecuteTime": {
     "end_time": "2025-01-07T13:56:29.173780Z",
     "start_time": "2025-01-07T13:56:22.662521Z"
    },
    "collapsed": true,
    "pycharm": {
     "name": "#%%\n"
    }
   },
   "outputs": [],
   "source": [
    "from src.tools import *\n",
    "from src.odes import *\n",
    "from src.value_table import *\n",
    "import matplotlib.pyplot as plt\n",
    "import numpy as np"
   ]
  },
  {
   "cell_type": "code",
   "execution_count": 2,
   "metadata": {
    "ExecuteTime": {
     "end_time": "2025-01-07T13:56:29.204738Z",
     "start_time": "2025-01-07T13:56:29.178708Z"
    },
    "collapsed": false,
    "pycharm": {
     "name": "#%%\n"
    }
   },
   "outputs": [],
   "source": [
    "def plot_event(event, color, obj):\n",
    "    count = 0\n",
    "    start = int(integrator.tdata[0] + event.time)\n",
    "    end = int(integrator.tdata[1]) + 1\n",
    "    dt = int(event.repeat)\n",
    "    dt = 1 if dt == 0 else dt\n",
    "    for _ in range(start, end, dt):\n",
    "        if count == 0:\n",
    "            obj.axvline(_/3600, color=color, label=event.name)\n",
    "            count += 1\n",
    "            continue\n",
    "        obj.axvline(_/3600, color=color)"
   ]
  },
  {
   "cell_type": "markdown",
   "metadata": {
    "collapsed": false,
    "pycharm": {
     "name": "#%% md\n"
    }
   },
   "source": [
    "# Helpers\n",
    "To avoid repetition"
   ]
  },
  {
   "cell_type": "code",
   "execution_count": 3,
   "metadata": {
    "ExecuteTime": {
     "end_time": "2025-01-07T13:56:29.220596Z",
     "start_time": "2025-01-07T13:56:29.209627Z"
    },
    "collapsed": false,
    "pycharm": {
     "name": "#%%\n"
    }
   },
   "outputs": [],
   "source": [
    "def update_integrator(ode, **kwargs):\n",
    "    kwargs['ics'][ode.notation] = ode.state\n",
    "    kwargs['params'][f'{ode.notation}_rate'] = ode.rate"
   ]
  },
  {
   "cell_type": "code",
   "execution_count": 4,
   "metadata": {
    "ExecuteTime": {
     "end_time": "2025-01-07T13:56:29.251513Z",
     "start_time": "2025-01-07T13:56:29.225584Z"
    },
    "collapsed": false,
    "pycharm": {
     "name": "#%%\n"
    }
   },
   "outputs": [],
   "source": [
    "def update_rate(ode, **kwargs):\n",
    "    ode.state = kwargs['c_step']['points'][ode.notation][-1]\n",
    "    ode.dy_dt(t=kwargs['t'][-1])"
   ]
  },
  {
   "cell_type": "markdown",
   "metadata": {
    "collapsed": false,
    "pycharm": {
     "name": "#%% md\n"
    }
   },
   "source": [
    "## Callbacks\n",
    "Are  attached to events, and are responsible for updating various simulation parameters, e.g environment temperature, window opening etc"
   ]
  },
  {
   "cell_type": "code",
   "execution_count": 5,
   "metadata": {
    "ExecuteTime": {
     "end_time": "2025-01-07T13:56:29.282436Z",
     "start_time": "2025-01-07T13:56:29.259492Z"
    },
    "collapsed": false,
    "pycharm": {
     "name": "#%%\n"
    }
   },
   "outputs": [],
   "source": [
    "def clb_env_temp(**kwargs):\n",
    "    env.state = env.compute_temp(t=kwargs['t'][-1])\n",
    "    env.dy_dt(t=kwargs['t'][-1])\n",
    "    # print('rate env', env.rate)\n",
    "    #update_rate(ode=radiator, **kwargs)\n",
    "    update_integrator(ode=env, **kwargs)"
   ]
  },
  {
   "cell_type": "code",
   "execution_count": 6,
   "metadata": {
    "ExecuteTime": {
     "end_time": "2025-01-07T13:56:29.313348Z",
     "start_time": "2025-01-07T13:56:29.286681Z"
    },
    "collapsed": false,
    "pycharm": {
     "name": "#%%\n"
    }
   },
   "outputs": [],
   "source": [
    "def clb_get_rates(**kwargs):\n",
    "    window_rate.set_state(int(room.open))\n",
    "    update_integrator(ode=window_rate, **kwargs)\n",
    "\n",
    "    opening_rate.set_state(radiator.opening())\n",
    "    update_integrator(ode=opening_rate, **kwargs)"
   ]
  },
  {
   "cell_type": "code",
   "execution_count": 7,
   "metadata": {
    "ExecuteTime": {
     "end_time": "2025-01-07T13:56:29.344358Z",
     "start_time": "2025-01-07T13:56:29.318775Z"
    },
    "collapsed": false,
    "pycharm": {
     "name": "#%%\n"
    }
   },
   "outputs": [],
   "source": [
    "def clb_log_callback(**kwargs):\n",
    "    time_ = kwargs['c_step']['points']['t'][-1]\n",
    "    print([time_/3600, time_, integrator.tdata[-1]])"
   ]
  },
  {
   "cell_type": "code",
   "execution_count": 8,
   "metadata": {
    "ExecuteTime": {
     "end_time": "2025-01-07T13:56:29.391605Z",
     "start_time": "2025-01-07T13:56:29.351251Z"
    },
    "collapsed": false,
    "pycharm": {
     "name": "#%%\n"
    }
   },
   "outputs": [],
   "source": [
    "def clb_wanted_temp_callback(**kwargs):\n",
    "    update_integrator(ode=wanted_temperature, **kwargs)"
   ]
  },
  {
   "cell_type": "code",
   "execution_count": 9,
   "metadata": {
    "ExecuteTime": {
     "end_time": "2025-01-07T13:56:29.452433Z",
     "start_time": "2025-01-07T13:56:29.400571Z"
    },
    "collapsed": false,
    "pycharm": {
     "name": "#%%\n"
    }
   },
   "outputs": [],
   "source": [
    "def clb_radiator_temp(**kwargs):\n",
    "    update_rate(ode=radiator, **kwargs)\n",
    "    update_integrator(ode=radiator, **kwargs)"
   ]
  },
  {
   "cell_type": "code",
   "execution_count": 10,
   "metadata": {
    "ExecuteTime": {
     "end_time": "2025-01-07T13:56:29.483969Z",
     "start_time": "2025-01-07T13:56:29.457419Z"
    },
    "collapsed": false,
    "pycharm": {
     "name": "#%%\n"
    }
   },
   "outputs": [],
   "source": [
    "def clb_room_temp(**kwargs):\n",
    "    update_rate(ode=room, **kwargs)\n",
    "    update_integrator(ode=room, **kwargs)"
   ]
  },
  {
   "cell_type": "code",
   "execution_count": 11,
   "metadata": {
    "ExecuteTime": {
     "end_time": "2025-01-07T13:56:29.514013Z",
     "start_time": "2025-01-07T13:56:29.488872Z"
    },
    "collapsed": false,
    "pycharm": {
     "name": "#%%\n"
    }
   },
   "outputs": [],
   "source": [
    "def clb_wake_up(**kwargs):\n",
    "    wanted_temperature.set_state(state=TEMP_DAY_NOMINAL)\n",
    "    radiator.tempNominal = TEMP_DAY_NOMINAL\n",
    "    update_integrator(ode=radiator, **kwargs)"
   ]
  },
  {
   "cell_type": "code",
   "execution_count": 12,
   "metadata": {
    "ExecuteTime": {
     "end_time": "2025-01-07T13:56:29.529070Z",
     "start_time": "2025-01-07T13:56:29.517951Z"
    },
    "collapsed": false,
    "pycharm": {
     "name": "#%%\n"
    }
   },
   "outputs": [],
   "source": [
    "def clb_sleep(**kwargs):\n",
    "    wanted_temperature.set_state(state=TEMP_NIGHT_NOMINAL)\n",
    "    radiator.tempNominal = TEMP_NIGHT_NOMINAL\n",
    "    update_integrator(ode=radiator, **kwargs)"
   ]
  },
  {
   "cell_type": "code",
   "execution_count": 13,
   "metadata": {
    "ExecuteTime": {
     "end_time": "2025-01-07T13:56:29.560138Z",
     "start_time": "2025-01-07T13:56:29.535053Z"
    },
    "collapsed": false,
    "pycharm": {
     "name": "#%%\n"
    }
   },
   "outputs": [],
   "source": [
    "def open_close_window_event(start, duration=None):\n",
    "    duration = np.random.randint(1, 8)/10 if duration is None else duration\n",
    "    duration += start\n",
    "    open_window = Event(name='open_window_event', time=start, repeat=None)\n",
    "    close_window = Event(name='close_window_event', time=duration, repeat=None)\n",
    "    open_window.attach_callback(func=lambda **kwargs: room.set_open(open=True))\n",
    "    close_window.attach_callback(func=lambda **kwargs: room.set_open(open=False))\n",
    "    return open_window, close_window"
   ]
  },
  {
   "cell_type": "markdown",
   "metadata": {
    "collapsed": false,
    "pycharm": {
     "name": "#%% md\n"
    }
   },
   "source": [
    "# Events\n",
    "Stops the integration process and executes any attached callback function"
   ]
  },
  {
   "cell_type": "code",
   "execution_count": 14,
   "metadata": {
    "ExecuteTime": {
     "end_time": "2025-01-07T13:56:30.060151Z",
     "start_time": "2025-01-07T13:56:29.570050Z"
    },
    "collapsed": false,
    "pycharm": {
     "name": "#%%\n"
    }
   },
   "outputs": [],
   "source": [
    "main_event = Event(name='main_event', time=0 * TimeUnits.second, repeat=0.2 * TimeUnits.minute, term=True, active=True)\n",
    "wake_up_event = Event(name='wake_up_event', time=7 * TimeUnits.hour, repeat=24*TimeUnits.hour)\n",
    "go_to_sleep_event = Event(name='go_to_sleep_event', time=22 * TimeUnits.hour, repeat=24*TimeUnits.hour)"
   ]
  },
  {
   "cell_type": "code",
   "execution_count": 15,
   "metadata": {
    "ExecuteTime": {
     "end_time": "2025-01-07T13:56:30.091098Z",
     "start_time": "2025-01-07T13:56:30.066130Z"
    },
    "collapsed": false,
    "pycharm": {
     "name": "#%%\n"
    }
   },
   "outputs": [],
   "source": [
    "# The main event stops the integration process and updates the simulation parameters\n",
    "main_event.attach_callback(func=clb_env_temp)\n",
    "main_event.attach_callback(func=clb_get_rates)\n",
    "#main_event.attach_callback(func=clb_log_callback)\n",
    "main_event.attach_callback(func=clb_wanted_temp_callback)\n",
    "main_event.attach_callback(func=clb_room_temp)\n",
    "main_event.attach_callback(func=clb_radiator_temp)\n",
    "# This event sets the wanted temperature when the resident wakes up\n",
    "wake_up_event.attach_callback(func=clb_wake_up)\n",
    "# This event sets the wanted temperature when the resident goes to sleeps\n",
    "go_to_sleep_event.attach_callback(func=clb_sleep)"
   ]
  },
  {
   "cell_type": "markdown",
   "metadata": {
    "collapsed": false,
    "pycharm": {
     "name": "#%% md\n"
    }
   },
   "source": [
    "# Experimentation Variables"
   ]
  },
  {
   "cell_type": "code",
   "execution_count": 16,
   "metadata": {
    "ExecuteTime": {
     "end_time": "2025-01-07T13:56:30.107060Z",
     "start_time": "2025-01-07T13:56:30.096106Z"
    },
    "collapsed": false,
    "pycharm": {
     "name": "#%%\n"
    }
   },
   "outputs": [],
   "source": [
    "TEMP_NIGHT_NOMINAL = 15\n",
    "TEMP_DAY_NOMINAL = 22\n",
    "EXPERIMENT_DURATION = 2*TimeUnits.day"
   ]
  },
  {
   "cell_type": "markdown",
   "metadata": {
    "collapsed": false,
    "pycharm": {
     "name": "#%% md\n"
    }
   },
   "source": [
    "# Integrator"
   ]
  },
  {
   "cell_type": "code",
   "execution_count": 17,
   "metadata": {
    "ExecuteTime": {
     "end_time": "2025-01-07T13:56:32.577972Z",
     "start_time": "2025-01-07T13:56:30.117029Z"
    },
    "collapsed": false,
    "pycharm": {
     "name": "#%%\n"
    }
   },
   "outputs": [],
   "source": [
    "integrator = Integrator(\n",
    "    tdata=[0, EXPERIMENT_DURATION],\n",
    "    max_step=10 * TimeUnits.minute,\n",
    "    min_step=0.0001 * TimeUnits.minute,\n",
    "    init_step=10*TimeUnits.second,\n",
    "    expressions={**room.expr, **radiator.expr, **env.expr, **boiler.expr, **window_rate.expr, **wanted_temperature.expr, **opening_rate.expr},\n",
    "    ics={**room.ics, **radiator.ics, **env.ics, **boiler.ics, **window_rate.ics, **wanted_temperature.ics, **opening_rate.ics},\n",
    "    events=[\n",
    "        main_event,\n",
    "        wake_up_event,\n",
    "        go_to_sleep_event,\n",
    "        *open_close_window_event(start=7.35*TimeUnits.hour, duration=0.35*TimeUnits.hour),\n",
    "        *open_close_window_event(start=15.7*TimeUnits.hour, duration=0.3*TimeUnits.hour),\n",
    "        *open_close_window_event(start=17*TimeUnits.hour, duration=0.3*TimeUnits.hour),\n",
    "        *open_close_window_event(start=18.2*TimeUnits.hour, duration=0.3*TimeUnits.hour),\n",
    "        *open_close_window_event(start=20.9*TimeUnits.hour, duration=0.3*TimeUnits.hour),\n",
    "        *open_close_window_event(start=22*TimeUnits.hour, duration=0.25*TimeUnits.hour),\n",
    "        *open_close_window_event(start=(24 + 17)*TimeUnits.hour, duration=0.3*TimeUnits.hour),\n",
    "        *open_close_window_event(start=(24 + 18.2)*TimeUnits.hour, duration=0.3*TimeUnits.hour),\n",
    "        *open_close_window_event(start=(24 + 20.9)*TimeUnits.hour, duration=0.3*TimeUnits.hour),\n",
    "        *open_close_window_event(start=(24 + 22)*TimeUnits.hour, duration=0.25*TimeUnits.hour),\n",
    "    ],\n",
    "    params={\n",
    "        'env_rate': env.dy_dt(t=0),\n",
    "        'room_rate': room.dy_dt(t=0),\n",
    "        'radiator_rate': radiator.dy_dt(t=0),\n",
    "        'boiler_rate': boiler.dy_dt(t=0),\n",
    "        'window_rate': window_rate.dy_dt(t=0),\n",
    "        'wanted_rate': wanted_temperature.dy_dt(t=0),\n",
    "        'opening_rate': opening_rate.dy_dt(t=0),\n",
    "    }\n",
    ")\n",
    "integrator.verbose = 1"
   ]
  },
  {
   "cell_type": "markdown",
   "metadata": {
    "collapsed": false,
    "pycharm": {
     "name": "#%% md\n"
    }
   },
   "source": [
    "# Solver"
   ]
  },
  {
   "cell_type": "code",
   "execution_count": 18,
   "metadata": {
    "ExecuteTime": {
     "end_time": "2025-01-07T14:05:20.492456Z",
     "start_time": "2025-01-07T13:56:32.581847Z"
    },
    "collapsed": false,
    "pycharm": {
     "name": "#%%\n"
    }
   },
   "outputs": [
    {
     "name": "stderr",
     "output_type": "stream",
     "text": [
      "100%|██████████| 172800/172800 [02:47<00:00, 1032.30it/s]\n"
     ]
    },
    {
     "name": "stdout",
     "output_type": "stream",
     "text": [
      "duration: 167.86s\n"
     ]
    }
   ],
   "source": [
    "env.refresh_value_table() # Ensures the value table is not empty\n",
    "with timer() as f:  # Takes about 4 minutes to finish...\n",
    "    results = integrator.solve(debug=False)"
   ]
  },
  {
   "cell_type": "markdown",
   "metadata": {
    "collapsed": false,
    "pycharm": {
     "name": "#%% md\n"
    }
   },
   "source": [
    "# Results"
   ]
  },
  {
   "cell_type": "code",
   "execution_count": 19,
   "metadata": {
    "ExecuteTime": {
     "end_time": "2025-01-07T14:05:22.255312Z",
     "start_time": "2025-01-07T14:05:20.495361Z"
    },
    "collapsed": false,
    "pycharm": {
     "name": "#%%\n"
    }
   },
   "outputs": [
    {
     "data": {
      "image/png": "[encoded data removed]",
      "text/plain": [
       "<Figure size 864x432 with 1 Axes>"
      ]
     },
     "metadata": {
      "needs_background": "light"
     },
     "output_type": "display_data"
    }
   ],
   "source": [
    "num = int(TimeUnits.hour) * 24\n",
    "if results is not None:\n",
    "    plt.figure(figsize=(12, 6))\n",
    "    plt.plot(results['t']/3600, results['env'], '--', label='TemperatureOutside')\n",
    "    plt.plot(results['t']/3600, results['boiler'], '--', label='TemperatureBoiler')\n",
    "    plt.plot(results['t']/3600, results['wanted'], '--', label='WantedTemperature')\n",
    "    plt.plot(results['t']/3600, results['room'], '-', label='TemperatureRoom', zorder=10)\n",
    "    plt.plot(results['t']/3600, results['radiator'], '--', label='TemperatureHeating')\n",
    "    plt.plot(results['t']/3600, results['window'] * 8, '--', label='WindowHeatLoss')\n",
    "    plt.plot(results['t']/3600, results['opening'] * 4, ':', label='ValveHeating')\n",
    "    plt.xlim(0, 24*2)\n",
    "    plt.xticks(range(0, 25*2, 2))\n",
    "    plt.yticks(range(0, 45, 5))\n",
    "    plt.legend(loc=\"upper right\")\n",
    "    plt.tight_layout()\n",
    "    plt.show()"
   ]
  },
  {
   "cell_type": "markdown",
   "metadata": {
    "collapsed": false,
    "pycharm": {
     "name": "#%% md\n"
    }
   },
   "source": [
    "# Format and export the results"
   ]
  },
  {
   "cell_type": "code",
   "execution_count": 20,
   "metadata": {
    "ExecuteTime": {
     "end_time": "2025-01-07T14:05:31.855228Z",
     "start_time": "2025-01-07T14:05:22.259302Z"
    },
    "collapsed": false,
    "pycharm": {
     "name": "#%%\n"
    }
   },
   "outputs": [],
   "source": [
    "data = [\n",
    "    *zip(\n",
    "        results['t']/3600,\n",
    "        results['env'], \n",
    "        results['boiler'],\n",
    "        results['wanted'],\n",
    "        results['room'],\n",
    "        results['radiator'],\n",
    "        results['window']*7,\n",
    "        results['opening']*3,\n",
    "    )\n",
    "]\n",
    "with open('gnuplot/data.dat', 'w') as f:\n",
    "    for _ in data:\n",
    "        f.write(('{} '*len(_)).format(*_))\n",
    "        f.write('\\n')"
   ]
  },
  {
   "cell_type": "markdown",
   "metadata": {
    "collapsed": false,
    "pycharm": {
     "name": "#%% md\n"
    }
   },
   "source": [
    "# Gnuplot"
   ]
  },
  {
   "cell_type": "code",
   "execution_count": 21,
   "metadata": {
    "ExecuteTime": {
     "end_time": "2025-01-07T14:05:31.948625Z",
     "start_time": "2025-01-07T14:05:31.858279Z"
    },
    "collapsed": false,
    "pycharm": {
     "name": "#%%\n"
    }
   },
   "outputs": [
    {
     "name": "stderr",
     "output_type": "stream",
     "text": [
      "'gnuplot' is not recognized as an internal or external command,\n",
      "operable program or batch file.\n"
     ]
    }
   ],
   "source": [
    "!gnuplot gnuplot/script.gp"
   ]
  },
  {
   "cell_type": "code",
   "execution_count": null,
   "metadata": {
    "ExecuteTime": {
     "end_time": "2025-01-07T14:05:31.963958Z",
     "start_time": "2025-01-07T14:05:31.951483Z"
    },
    "collapsed": false
   },
   "outputs": [],
   "source": []
  }
 ],
 "metadata": {
  "kernelspec": {
   "display_name": "Python 3",
   "language": "python",
   "name": "python3"
  },
  "language_info": {
   "codemirror_mode": {
    "name": "ipython",
    "version": 3
   },
   "file_extension": ".py",
   "mimetype": "text/x-python",
   "name": "python",
   "nbconvert_exporter": "python",
   "pygments_lexer": "ipython3",
   "version": "3.6.13"
  }
 },
 "nbformat": 4,
 "nbformat_minor": 0
}
